{
 "cells": [
  {
   "cell_type": "code",
   "execution_count": null,
   "metadata": {},
   "outputs": [],
   "source": [
    "per = int(input(\"enter your percentage %\"));\n",
    "if per >= 80 and per <= 100:\n",
    "    print (\"A+\")\n",
    "elif per >= 70 and per <= 80:\n",
    "    print(\"A\")\n",
    "elif per >= 60 and per <= 70:\n",
    "    print(\"B\")\n",
    "elif per >= 50 and per <= 60:\n",
    "    print(\"C\")\n",
    "elif per >= 40 and per <= 50:\n",
    "    print (\"D\")\n",
    "elif per >= 33 and per <= 40:\n",
    "    print (\"E\")\n",
    "elif per >= 0 and per <= 33:\n",
    "    print (\"FAIL\")"
   ]
  },
  {
   "cell_type": "code",
   "execution_count": null,
   "metadata": {},
   "outputs": [],
   "source": []
  }
 ],
 "metadata": {
  "kernelspec": {
   "display_name": "Python 3",
   "language": "python",
   "name": "python3"
  },
  "language_info": {
   "codemirror_mode": {
    "name": "ipython",
    "version": 3
   },
   "file_extension": ".py",
   "mimetype": "text/x-python",
   "name": "python",
   "nbconvert_exporter": "python",
   "pygments_lexer": "ipython3",
   "version": "3.7.4"
  }
 },
 "nbformat": 4,
 "nbformat_minor": 2
}
